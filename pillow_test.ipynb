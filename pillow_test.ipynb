{
 "cells": [
  {
   "cell_type": "code",
   "execution_count": 34,
   "metadata": {},
   "outputs": [],
   "source": [
    "from PIL import Image\n",
    "import numpy as np\n",
    "\n",
    "im = Image.open('./cat.png')\n",
    "im.show()\n",
    "\n",
    "arr_im = np.array(im)\n",
    "\n",
    "Image.fromarray(np.array([255 - i for i in arr_im])).show()\n",
    "im.transform()\n"
   ]
  },
  {
   "cell_type": "code",
   "execution_count": 36,
   "metadata": {},
   "outputs": [
    {
     "ename": "",
     "evalue": "",
     "output_type": "error",
     "traceback": [
      "\u001b[1;31mThe Kernel crashed while executing code in the the current cell or a previous cell. Please review the code in the cell(s) to identify a possible cause of the failure. Click <a href='https://aka.ms/vscodeJupyterKernelCrash'>here</a> for more info. View Jupyter <a href='command:jupyter.viewOutput'>log</a> for further details."
     ]
    }
   ],
   "source": [
    "images = []\n",
    "\n",
    "for i in range(0, 360, 2):\n",
    "    images.append(im.rotate(i))\n",
    "\n",
    "images[0].save('pillow_imagedraw.gif',\n",
    "               save_all = True, append_images = images[1:], \n",
    "               optimize = False, duration = 10)"
   ]
  }
 ],
 "metadata": {
  "kernelspec": {
   "display_name": "LocPy3",
   "language": "python",
   "name": "python3"
  },
  "language_info": {
   "codemirror_mode": {
    "name": "ipython",
    "version": 3
   },
   "file_extension": ".py",
   "mimetype": "text/x-python",
   "name": "python",
   "nbconvert_exporter": "python",
   "pygments_lexer": "ipython3",
   "version": "3.11.3"
  },
  "orig_nbformat": 4
 },
 "nbformat": 4,
 "nbformat_minor": 2
}
